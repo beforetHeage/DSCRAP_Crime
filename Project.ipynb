{
 "cells": [
  {
   "cell_type": "markdown",
   "metadata": {},
   "source": [
    "# Analysing San Francisco Crime dataset\n",
    "## Introduction \n",
    "The crime rate in San-Francisco became the topic of relevancy over the years of progressive violence in the city sidewalks. As an example, 2018 statistic shows the average violent crime rate, which exceeded 150% over other United States cities, inferring to the potential threat that people faces while kindly stepping the sidewalk. As if some areas might be safe, some areas extremely violent with a high chance of being robbed, such as Tenderloin. Also, most of the crimes are related to thefts and property crimes. The following analysis provides which part of the cities are the most dangerous ones and also will give a description of the current problem. \n",
    "\n",
    "In 2018 city faced 65 calls per day with the compliancy of theft, and becoming the second most frequent city with compliancy issues among other United State cities. Frequency of the compliancy gave birth to a \"poop patrol\" to deal with amid homelessness.\n",
    "\n",
    "Due to the high compliancy on crime-level in San-Francisco, research on this dataset would provide intriguing insights and information about the city crime frequency and possible analysis combatting the issue of high violence. Moreover, timestamps would be an additional source for analysis to explain the appearance and location of each crime. Reshaped and sanitized results would deliver infographics for different variables, thus: time, location, and form of the crime.\n",
    "\n",
    "### Sources\n",
    "+ https://en.wikipedia.org/wiki/San_Francisco#Crime)\n",
    "+ https://time.com/5368610/san-francisco-poop-patrol-problem/\n",
    "+ https://www.kaggle.com/roshansharma/sanfranciso-crime-dataset"
   ]
  },
  {
   "cell_type": "markdown",
   "metadata": {},
   "source": [
    "## Dataset description and goals"
   ]
  },
  {
   "cell_type": "markdown",
   "metadata": {},
   "source": [
    "### Preface\n",
    "Given the year (2016) of the dataset, it might be an obsolete one. However, the statistical analysis does not lose its relevance, since the results deliver additional information to the future projects and yearly evaluation, and serve as a comparison backup analysis."
   ]
  },
  {
   "cell_type": "markdown",
   "metadata": {},
   "source": [
    "### Data Variables"
   ]
  },
  {
   "cell_type": "markdown",
   "metadata": {},
   "source": [
    "These variables will be used in the data analysis. \n",
    "\n",
    "+ Category - classify each type of crime and \n",
    "+ Descript - brief explanation of a committed crime\n",
    "+ DayOfWeek - given week of the day\n",
    "+ Date - when does incident happened\n",
    "+ Time - exact moment of the committed crime\n",
    "+ PdDistrict - area where the committed happened\n",
    "+ Address - the location and given address name\n",
    "+ X - X-axis latency location\n",
    "+ Y - Y-axis latency location"
   ]
  },
  {
   "cell_type": "markdown",
   "metadata": {},
   "source": [
    "### Research Question\n",
    "<ol>\n",
    "    <li>Analyze the areas and location of committed crime on the San-Francisco map</li>\n",
    "    <li>Evaluate the weekday and timely information using gistographical analysis of frequency, and possible time gap results between each committed crime.</li>\n",
    "    <li>Analyze the most frequent and less frequent committed crime and sort by relevance or occurency</li>\n",
    "    <li>Determine time of a committed crime for each area and its frequency</li>\n",
    "    <li>Classify each category and make subset for each incident with its brief description</li>\n",
    "<ol>"
   ]
  },
  {
   "cell_type": "markdown",
   "metadata": {},
   "source": [
    "## Data Sanitization and cleaning"
   ]
  },
  {
   "cell_type": "markdown",
   "metadata": {},
   "source": [
    "Since given dataset would be analyzed for completeness further in the data validation part, dataset would be cleansed from unnecessary columns and column values."
   ]
  },
  {
   "cell_type": "code",
   "execution_count": null,
   "metadata": {},
   "outputs": [],
   "source": [
    "import numpy as np\n",
    "import pandas as pd\n",
    "#initial used libraries\n",
    "#additional libraries would be added as the project progresses"
   ]
  },
  {
   "cell_type": "code",
   "execution_count": null,
   "metadata": {},
   "outputs": [],
   "source": [
    "#training model\n",
    "tm = pd.read_csv('/Users/harmonyof/Desktop/Police_Department_Incidents_Previous_Year__2016_.csv', encoding='UTF-8')\n",
    "#delete unnecessary columns\n",
    "del tm['Location']\n",
    "del tm['Resolution']\n",
    "del tm['PdId']\n",
    "del tm['IncidntNum']\n",
    "#display the graph in a frame\n",
    "df = pd.DataFrame(tm)\n",
    "df.head(5)"
   ]
  },
  {
   "cell_type": "markdown",
   "metadata": {},
   "source": [
    "On the Date Column 12:00:00 AM part is continuously appears on each column, since it does not provide any information, removing this part does not affect the dataset appearance."
   ]
  },
  {
   "cell_type": "code",
   "execution_count": null,
   "metadata": {},
   "outputs": [],
   "source": [
    "df['Date'] = df['Date'].map(lambda x: x.rstrip('AM').rstrip(' ').rstrip('12:00:00'))\n",
    "#Cleared Column\n",
    "df.head(5)"
   ]
  },
  {
   "cell_type": "markdown",
   "metadata": {},
   "source": [
    "#### Data division by research questions"
   ]
  },
  {
   "cell_type": "markdown",
   "metadata": {},
   "source": [
    "1) Areas and location of each committed crime and the consequent graph will be used for future retrievement"
   ]
  },
  {
   "cell_type": "code",
   "execution_count": null,
   "metadata": {},
   "outputs": [],
   "source": [
    "df1 = df[['PdDistrict', 'Address','X','Y','Category']]\n",
    "df1.head(5)"
   ]
  },
  {
   "cell_type": "markdown",
   "metadata": {},
   "source": [
    "2) Evaluate the weekday and timely information and the consequent graph will be used for future retrievement"
   ]
  },
  {
   "cell_type": "code",
   "execution_count": null,
   "metadata": {},
   "outputs": [],
   "source": [
    "df2 = df[['DayOfWeek', 'Date','Time']]\n",
    "df2.head(5)"
   ]
  },
  {
   "cell_type": "markdown",
   "metadata": {},
   "source": [
    "3) Analyze the most frequent and less frequent committed crime and the consequent graph will be used for future retrievement"
   ]
  },
  {
   "cell_type": "code",
   "execution_count": null,
   "metadata": {},
   "outputs": [],
   "source": [
    "df3 = df[['Category','Date','Time', 'Address']]\n",
    "df3.head(5)"
   ]
  },
  {
   "cell_type": "markdown",
   "metadata": {},
   "source": [
    "4) Determine time of a committed crime for each area and the consequent graph will be used for future retrievement"
   ]
  },
  {
   "cell_type": "code",
   "execution_count": null,
   "metadata": {},
   "outputs": [],
   "source": [
    "df4 = df[['Time', 'Category', 'X', 'Y']]\n",
    "df4.head(5)"
   ]
  },
  {
   "cell_type": "markdown",
   "metadata": {},
   "source": [
    "5) Classify each category and make subset for each incident with its brief description"
   ]
  },
  {
   "cell_type": "code",
   "execution_count": null,
   "metadata": {},
   "outputs": [],
   "source": [
    "df5 = df[['Category', 'Descript']]\n",
    "df5.head(5)"
   ]
  }
 ],
 "metadata": {
  "kernelspec": {
   "display_name": "Python 3",
   "language": "python",
   "name": "python3"
  },
  "language_info": {
   "codemirror_mode": {
    "name": "ipython",
    "version": 3
   },
   "file_extension": ".py",
   "mimetype": "text/x-python",
   "name": "python",
   "nbconvert_exporter": "python",
   "pygments_lexer": "ipython3",
   "version": "3.8.3"
  }
 },
 "nbformat": 4,
 "nbformat_minor": 4
}
